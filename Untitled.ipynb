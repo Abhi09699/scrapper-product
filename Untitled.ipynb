{
 "cells": [
  {
   "cell_type": "code",
   "execution_count": 21,
   "id": "af8b9aa5-a55d-411c-b1c3-754d84581a57",
   "metadata": {},
   "outputs": [
    {
     "name": "stdout",
     "output_type": "stream",
     "text": [
      "YouTube\n"
     ]
    }
   ],
   "source": [
    "from selenium import webdriver\n",
    "\n",
    "driver = webdriver.Chrome()\n",
    "\n",
    "driver.get(\"https://www.youtube.com/\")\n",
    "print(driver.title)\n"
   ]
  },
  {
   "cell_type": "code",
   "execution_count": 22,
   "id": "cc2d269c-41aa-4ed7-8621-99afb3a37db2",
   "metadata": {},
   "outputs": [],
   "source": [
    "from selenium.webdriver.common.by import By\n",
    "from selenium.webdriver.common.keys import Keys"
   ]
  },
  {
   "cell_type": "code",
   "execution_count": 23,
   "id": "99ee084a-89d2-4cd1-98e1-1edce888b9ec",
   "metadata": {},
   "outputs": [],
   "source": [
    "driver.maximize_window()"
   ]
  },
  {
   "cell_type": "code",
   "execution_count": 24,
   "id": "cb35f6a7-8c21-4912-aa9f-36237588ee22",
   "metadata": {},
   "outputs": [],
   "source": [
    "driver.find_element(By.XPATH, \"*//div/input[@placeholder='Search']\").send_keys(\"hello \")"
   ]
  },
  {
   "cell_type": "code",
   "execution_count": 25,
   "id": "8ccb28e2-d811-49a5-933d-9b1579157a9a",
   "metadata": {},
   "outputs": [],
   "source": [
    "driver.find_element(By.XPATH, \"*//div/input[@placeholder='Search']\").send_keys(Keys.ENTER)"
   ]
  },
  {
   "cell_type": "code",
   "execution_count": 26,
   "id": "8a548ab5-3204-479c-80bf-e56905300d8d",
   "metadata": {},
   "outputs": [],
   "source": [
    "songs =[\"daljit dosanj\"]"
   ]
  },
  {
   "cell_type": "code",
   "execution_count": 27,
   "id": "a929a7bd-b924-4e6b-822b-33a39fab8d6d",
   "metadata": {},
   "outputs": [],
   "source": [
    "searchurl = f\"https://www.youtube.com/results?search_query={songs[2]} songs\""
   ]
  },
  {
   "cell_type": "code",
   "execution_count": 28,
   "id": "fae4d1bf-e1db-4b91-b9d2-15b4cb613295",
   "metadata": {},
   "outputs": [],
   "source": [
    "driver.get(searchurl)"
   ]
  },
  {
   "cell_type": "code",
   "execution_count": null,
   "id": "fb1a8b63-0c19-455a-a023-af7b9b68bf3f",
   "metadata": {},
   "outputs": [],
   "source": []
  },
  {
   "cell_type": "code",
   "execution_count": null,
   "id": "8c117bb9-6a39-4420-86b2-2896c4d5afa0",
   "metadata": {},
   "outputs": [],
   "source": []
  }
 ],
 "metadata": {
  "kernelspec": {
   "display_name": "Python 3 (ipykernel)",
   "language": "python",
   "name": "python3"
  },
  "language_info": {
   "codemirror_mode": {
    "name": "ipython",
    "version": 3
   },
   "file_extension": ".py",
   "mimetype": "text/x-python",
   "name": "python",
   "nbconvert_exporter": "python",
   "pygments_lexer": "ipython3",
   "version": "3.11.2"
  }
 },
 "nbformat": 4,
 "nbformat_minor": 5
}

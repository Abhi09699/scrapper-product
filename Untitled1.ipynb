{
 "cells": [
  {
   "cell_type": "code",
   "execution_count": 61,
   "id": "751e241b-94fc-4535-8cfa-fbd95da3f049",
   "metadata": {},
   "outputs": [],
   "source": [
    "from bs4 import BeautifulSoup\n",
    "import requests, re"
   ]
  },
  {
   "cell_type": "code",
   "execution_count": 21,
   "id": "31cef320-6d87-45ba-842c-f198ef2f7260",
   "metadata": {},
   "outputs": [],
   "source": [
    "import requests\n",
    "\n",
    "headers = {\n",
    "    'authority': 'www.bol.com',\n",
    "    'accept': 'application/json, text/plain, */*',\n",
    "    'accept-language': 'en-US,en;q=0.9',\n",
    "    # 'cookie': 'BUI=32eaeb66-981e-4507-b8f1-ee1bab2886a7; bltgSessionId=5b6c2c1a-826e-458b-9fa5-0c1310d5ed11; XSRF-TOKEN=20bf5a74-c605-4f5f-b76e-7e79b16a8ce7; locale=NL; language=nl-NL; XSC=wgVgZY3as96RsJiVXU3dTuU9JAfRosGt; cachedAssets=3d45; s_fid=07C0C3123A2E87B4-0E5805565BEF2416; px_page=no%20cms%20page; px_prop36=xlarge; s_cc=true; s_vi=[CS]v1|32AF8E028CBB64D5-40000D88A26CB0FD[CE]; _gid=GA1.2.943745927.1700731913; _gcl_au=1.1.1962461387.1700731913; kppid=32eaeb66-981e-4507-b8f1-ee1bab2886a7; fdbk=2; shopping_session_id=21f21b0ebd7c5ba4ab74740fe40a85bb9b998cd796094595cfadbbcf6ed6bcfb; px_visit=1; bolConsentChoices=source#OFC|version#6|int-tran#true|ext-tran#true|int-beh#true|ext-beh#true; px_prop34=search; px_pp=main%3AquickSearch; _ga=GA1.1.460071224.1700731913; _ga_MY1G523SMZ=GS1.1.1700823330.3.1.1700823887.5.0.0; px_nr=1700823888260-Repeat; px_prop13=charger; px_eVar14=typed%20search; px_eVar80=%7B%22journey%22%3A2%2C%22page%22%3A2%7D; P=.wspc-deployment-f6cc86b44-4cmqr',\n",
    "    'referer': 'https://www.bol.com/nl/nl/s/?searchtext=charger',\n",
    "    'sec-ch-ua': '\"Google Chrome\";v=\"119\", \"Chromium\";v=\"119\", \"Not?A_Brand\";v=\"24\"',\n",
    "    'sec-ch-ua-mobile': '?0',\n",
    "    'sec-ch-ua-platform': '\"Windows\"',\n",
    "    'sec-fetch-dest': 'empty',\n",
    "    'sec-fetch-mode': 'cors',\n",
    "    'sec-fetch-site': 'same-origin',\n",
    "    'user-agent': 'Mozilla/5.0 (Windows NT 10.0; Win64; x64) AppleWebKit/537.36 (KHTML, like Gecko) Chrome/119.0.0.0 Safari/537.36',\n",
    "    'x-requested-with': 'xhr',\n",
    "}\n",
    "\n",
    "params = {\n",
    "    'page': '1',\n",
    "    'searchtext': 'mobile',\n",
    "    'view': 'list',\n",
    "    '_c': 'xhr',\n",
    "    'bltgc': 'oMbHe-J-BF28K2tWBahEpg',\n",
    "}\n",
    "\n",
    "response = requests.get('https://www.bol.com/nl/nl/s/', params=params, headers=headers)"
   ]
  },
  {
   "cell_type": "code",
   "execution_count": 2,
   "id": "7db22166-8dd7-4fe8-aa46-09a0185103a5",
   "metadata": {},
   "outputs": [],
   "source": [
    "url = 'https://www.bol.com/nl/nl/s/?page=3&searchtext=mobile&view=list%27'"
   ]
  },
  {
   "cell_type": "code",
   "execution_count": 3,
   "id": "4d9412bd-9e5b-4a1f-b581-45b65ed042c3",
   "metadata": {},
   "outputs": [],
   "source": [
    "page = requests.get(url)"
   ]
  },
  {
   "cell_type": "code",
   "execution_count": 4,
   "id": "094a5f82-5333-4a19-a7d7-540995bbe3fc",
   "metadata": {},
   "outputs": [],
   "source": [
    "Soup = BeautifulSoup(page.text, 'html')"
   ]
  },
  {
   "cell_type": "markdown",
   "id": "eeac7a53-1702-4473-a043-f1ed34deffef",
   "metadata": {},
   "source": [
    "#  New code"
   ]
  },
  {
   "cell_type": "markdown",
   "id": "8ca99ba9-d10a-47ff-acd4-90d732efc538",
   "metadata": {},
   "source": [
    "# Scraping Values \n",
    "## Brand  Product_Name  Review devliverytime "
   ]
  },
  {
   "cell_type": "code",
   "execution_count": 22,
   "id": "1f2120de-e2cf-43a8-bdf9-2f7341e59591",
   "metadata": {},
   "outputs": [],
   "source": [
    "Soup = BeautifulSoup(response.text, 'html')"
   ]
  },
  {
   "cell_type": "code",
   "execution_count": 27,
   "id": "4d8b5393-14ce-4d81-aeed-5f510e1dd187",
   "metadata": {},
   "outputs": [],
   "source": [
    "prettified_html = Soup.prettify()\n",
    "\n",
    "# Write the prettified HTML to an index.html file\n",
    "with open('index.html', 'w', encoding='utf-8') as file:\n",
    "    file.write(prettified_html)"
   ]
  },
  {
   "cell_type": "code",
   "execution_count": null,
   "id": "24499e26-09f4-442a-bb47-ef92d98e421a",
   "metadata": {},
   "outputs": [],
   "source": []
  },
  {
   "cell_type": "code",
   "execution_count": 29,
   "id": "57f1fbb1-487c-4ef7-98a6-edc3ebbeb4b1",
   "metadata": {},
   "outputs": [],
   "source": [
    "# print(Soup.prettify())"
   ]
  },
  {
   "cell_type": "code",
   "execution_count": 24,
   "id": "28a446c8-75a9-4dee-8e58-31add5455772",
   "metadata": {},
   "outputs": [],
   "source": [
    "names = Soup.find_all('a', class_ = 'product-title px_list_page_product_click list_page_product_tracking_target')"
   ]
  },
  {
   "cell_type": "code",
   "execution_count": 31,
   "id": "7d473e8d-0332-4049-abbf-7a29ea452eee",
   "metadata": {},
   "outputs": [],
   "source": [
    "ALLproduct =  Soup.find_all('div', {'data-test': 'product-content'})"
   ]
  },
  {
   "cell_type": "code",
   "execution_count": 72,
   "id": "63138a4a-50cd-43ee-b821-9e5233c7eb19",
   "metadata": {},
   "outputs": [
    {
     "name": "stdout",
     "output_type": "stream",
     "text": [
      " 0 Brand Name : Motorola    Product name :  motorola moto g73 5G - 256GB - Blauw Price : 199  - TotalReviw : 5  Rating : klantbeoordeling: 4,6 van de 5 sterren delivery: Op voorraad\n",
      "Voor 23:59 uur besteld, maandag in huis\n",
      " 1 Brand Name : Motorola    Product name :  motorola edge 30 neo - 256GB - Onyx Black Price : 229  - TotalReviw : 2  Rating : klantbeoordeling: 3,0 van de 5 sterren delivery: Op voorraad\n",
      "Voor 23:59 uur besteld, maandag in huis\n",
      " 2 Brand Name : Samsung    Product name :  Samsung Galaxy A14 - 64GB - Awesome Black Price : 137  - TotalReviw : 150  Rating : klantbeoordeling: 3,9 van de 5 sterren delivery: Op voorraad\n",
      "Voor 23:59 uur besteld, maandag in huis\n",
      " 3 Brand Name : Motorola    Product name :  Motorola moto e13 - 64 GB - Cosmic Black Price : 80  - TotalReviw : 35  Rating : klantbeoordeling: 3,9 van de 5 sterren delivery: Op voorraad\n",
      "Nu besteld, maandag in huis\n",
      " 4 Brand Name : Motorola    Product name :  Motorola Moto g53 5G - 128GB - Ink Blue Price : 159  - TotalReviw : 9  Rating : klantbeoordeling: 4,3 van de 5 sterren delivery: Op voorraad\n",
      "Voor 23:59 uur besteld, maandag in huis\n",
      " 5 Brand Name : Alcatel    Product name :  Alcatel 1 (2019) - 8GB - Zwart Price : 59  99 TotalReviw : 11  Rating : klantbeoordeling: 3,7 van de 5 sterren delivery: Op voorraad\n",
      "Voor 15:00 uur besteld, dinsdag in huis\n",
      " 6 Brand Name : Samsung    Product name :  Samsung Galaxy A14 - 128GB - Awesome Black Price : 158  - TotalReviw : 151  Rating : klantbeoordeling: 3,9 van de 5 sterren delivery: Op voorraad\n",
      "Select\n",
      "Voor 23:59 besteld, morgen in huis\n",
      " 7 Brand Name : Samsung    Product name :  Samsung Galaxy A34 5G - 128GB - Awesome Black Price : 292  - TotalReviw : 62  Rating : klantbeoordeling: 4,5 van de 5 sterren delivery: Op voorraad\n",
      "Voor 19:00 uur besteld, morgen in huis\n",
      " 8 Brand Name : Samsung    Product name :  Samsung Galaxy A54 5G - 128GB - Awesome Black Price : 383  87 TotalReviw : 101  Rating : klantbeoordeling: 4,4 van de 5 sterren delivery: Op voorraad\n",
      "Voor 23:30 uur besteld, morgen in huis\n",
      " 9 Brand Name : Samsung    Product name :  Samsung Galaxy A54 5G - 256GB - Awesome Black Price : 393  - TotalReviw : 101  Rating : klantbeoordeling: 4,4 van de 5 sterren delivery: Op voorraad\n",
      "Voor 19:00 uur besteld, morgen in huis\n",
      " 10 Brand Name : Apple    Product name :  Apple iPhone 15 - 128GB - Black Price : 939  - TotalReviw : 4  Rating : klantbeoordeling: 4,8 van de 5 sterren delivery: Op voorraad\n",
      "Voor 18:00 uur besteld, morgen in huis\n",
      " 11 Brand Name : Apple    Product name :  Apple iPhone 14 - 128GB - Middernacht Price : 789  - TotalReviw : 56  Rating : klantbeoordeling: 4,3 van de 5 sterren delivery: Op voorraad\n",
      "Voor 16:00 uur besteld, morgen in huis\n",
      " 12 Brand Name : Samsung    Product name :  Samsung Galaxy A23 5G - 64 GB - Lichtblauw Price : 199  - TotalReviw : 34  Rating : klantbeoordeling: 4,4 van de 5 sterren delivery: Op voorraad\n",
      "Voor 23:59 uur besteld, dinsdag in huis\n",
      " 13 Brand Name : Fairphone    Product name :  Fairphone 5 - 5G - 256GB - Transparent Edition Price : 699  - TotalReviw : 2  Rating : klantbeoordeling: 5,0 van de 5 sterren delivery: Op voorraad\n",
      "Voor 23:59 uur besteld, dinsdag in huis\n",
      " 14 Brand Name : Samsung    Product name :  Samsung Galaxy S23 5G - 128GB - Phantom Black Price : 726  44 TotalReviw : 22  Rating : klantbeoordeling: 4,3 van de 5 sterren delivery: Op voorraad\n",
      "Voor 22:30 uur besteld, morgen in huis\n",
      " 15 Brand Name : Apple    Product name :  Apple iPhone 13 - 128GB - Middernacht Price : 699  - TotalReviw : 148  Rating : klantbeoordeling: 4,5 van de 5 sterren delivery: Op voorraad\n",
      "Voor 18:00 uur besteld, morgen in huis\n",
      " 16 Brand Name : Apple    Product name :  Apple iPhone 15 Pro - 128GB - Zwart Titanium Price : 1275  - TotalReviw : 1  Rating : klantbeoordeling: 5,0 van de 5 sterren delivery: Op voorraad\n",
      "Voor 23:59 uur besteld, dinsdag in huis\n",
      " 17 Brand Name : Samsung    Product name :  Samsung Galaxy S22 5G - 128GB - Phantom Black Price : 539  - TotalReviw : 38  Rating : klantbeoordeling: 3,8 van de 5 sterren delivery: Op voorraad\n",
      "Voor 23:59 uur besteld, maandag in huis\n",
      " 18 Brand Name : Apple    Product name :  Apple iPhone 15 Pro Max - 256GB - Blauw Titanium Price : 1479  - TotalReviw : 0  Rating : no reviews delivery: Op voorraad\n",
      "Voor 23:59 uur besteld, dinsdag in huis\n",
      " 19 Brand Name : Motorola    Product name :  Motorola Moto g13 - Matte Charcoal Price : 119  - TotalReviw : 29  Rating : klantbeoordeling: 4,4 van de 5 sterren delivery: Op voorraad\n",
      "Voor 23:59 uur besteld, maandag in huis\n",
      "20 no record None\n",
      "999  -\n",
      " 21 Brand Name : Apple    Product name :  Apple iPhone 14 Pro - 128GB - Spacezwart Price : 999  - TotalReviw : 28  Rating : klantbeoordeling: 4,9 van de 5 sterren delivery: not have\n",
      " 22 Brand Name : Samsung    Product name :  Samsung Galaxy S23 5G - 256GB - Phantom Black Price : 807  - TotalReviw : 22  Rating : klantbeoordeling: 4,3 van de 5 sterren delivery: Op voorraad\n",
      "Voor 18:00 uur besteld, morgen in huis\n",
      " 23 Brand Name : OnePlus    Product name :  OnePlus - Nord CE 3 Lite - 5G - Chromatic Gray Price : 229  - TotalReviw : 10  Rating : klantbeoordeling: 4,3 van de 5 sterren delivery: Op voorraad\n",
      "Voor 23:59 uur besteld, maandag in huis\n",
      " 24 Brand Name : Apple    Product name :  Apple iPhone SE (2022) - 64GB - Zwart Price : 495  - TotalReviw : 102  Rating : klantbeoordeling: 4,4 van de 5 sterren delivery: Op voorraad\n",
      "Voor 19:00 uur besteld, morgen in huis\n",
      " 25 Brand Name : Samsung    Product name :  Samsung Galaxy S23 Plus 5G - 256GB - Phantom Black Price : 975  - TotalReviw : 13  Rating : klantbeoordeling: 3,9 van de 5 sterren delivery: Op voorraad\n",
      "Voor 18:00 uur besteld, morgen in huis\n"
     ]
    }
   ],
   "source": [
    "for data in ALLproduct:\n",
    "    productName= data.find('a', class_ = 'product-title px_list_page_product_click list_page_product_tracking_target')\n",
    "    brandName = data.find('ul', class_= 'product-creator').text\n",
    "    star_rating_div = data.find('div', class_='star-rating')\n",
    "    try:\n",
    "        data_count_value = star_rating_div.get('data-count')\n",
    "        title_value = star_rating_div.get('title')\n",
    "    except:\n",
    "        data_count_value=0\n",
    "        title_value= \"no reviews\"\n",
    "    pattern = re.compile(r'(.+)(?=Levertijd)', re.DOTALL)\n",
    "    delvierybefore = data.find('div', class_=\"product-delivery\")\n",
    "    try:\n",
    "        delivery_time_text = delvierybefore.get_text(strip=True, separator='\\n')\n",
    "        match = pattern.search(delivery_time_text)\n",
    "        delivery_time_text = match.group(1).strip()\n",
    "    except:\n",
    "        delivery_time_text= \"not have\"\n",
    "    \n",
    "    try:\n",
    "        price = data.find('span', class_='promo-price').text\n",
    "        price= price.replace(\"\\n\", \"\")\n",
    "    except:\n",
    "        print(price)\n",
    "       \n",
    "    # try:\n",
    "    #     data_count_value = star_rating_div.get('data-count')\n",
    "    #     title_value = star_rating_div.get('title')\n",
    "    # except:\n",
    "    #     data_count_value=0\n",
    "    #     title_value= \"no reviews\"\n",
    "    \n",
    "    brandName = brandName.replace(\"\\n\",\"\")\n",
    "    try:\n",
    "        print(f\" {ALLproduct.index(data)} Brand Name : {brandName}    Product name :  {productName.text}  Price : {price} TotalReviw : {data_count_value}  Rating : {title_value} delivery: {delivery_time_text}\")\n",
    "    except:\n",
    "        print(f\"{ALLproduct.index(data)} no record {productName}\")"
   ]
  },
  {
   "cell_type": "code",
   "execution_count": 41,
   "id": "a2596ddb-d31e-4b4f-ab9c-f284ba4b3e75",
   "metadata": {},
   "outputs": [],
   "source": [
    "# print(len(names))\n",
    "# for i in names:\n",
    "#     print(i.text)"
   ]
  },
  {
   "cell_type": "code",
   "execution_count": 8,
   "id": "73d15391-55d4-4491-9475-cc61ac03fbd2",
   "metadata": {},
   "outputs": [],
   "source": [
    "#rates = Soup.find_all('span', class_ = 'promo-price')"
   ]
  },
  {
   "cell_type": "code",
   "execution_count": 9,
   "id": "e4501fbb-a92c-472a-aa65-0fc729f11731",
   "metadata": {},
   "outputs": [],
   "source": [
    "#for i in rates:\n",
    "#    print(i.text)"
   ]
  },
  {
   "cell_type": "code",
   "execution_count": 10,
   "id": "eae93a34-9ae4-40fa-8e3a-0900f967cb06",
   "metadata": {},
   "outputs": [],
   "source": [
    "Samplerate = Soup.find_all('del', class_= 'h-nowrap')"
   ]
  },
  {
   "cell_type": "code",
   "execution_count": 11,
   "id": "5da97eb3-aeb1-47aa-8f0e-98c6f525d885",
   "metadata": {},
   "outputs": [
    {
     "name": "stdout",
     "output_type": "stream",
     "text": [
      "149,00\n",
      "272,00\n",
      "275,00\n",
      "621,00\n",
      "375,00\n",
      "249,00\n",
      "137,00\n",
      "198,99\n",
      "219,00\n",
      "419,00\n",
      "399,00\n",
      "1.949,00\n",
      "949,00\n",
      "419,00\n",
      "162,95\n",
      "277,99\n",
      "429,00\n"
     ]
    }
   ],
   "source": [
    "for i in Samplerate:\n",
    "    print(i.text)"
   ]
  },
  {
   "cell_type": "code",
   "execution_count": 12,
   "id": "9bba8389-947a-4957-bc8f-3b3f35e20a41",
   "metadata": {},
   "outputs": [
    {
     "ename": "SyntaxError",
     "evalue": "positional argument follows keyword argument (3821988872.py, line 1)",
     "output_type": "error",
     "traceback": [
      "\u001b[1;36m  Cell \u001b[1;32mIn[12], line 1\u001b[1;36m\u001b[0m\n\u001b[1;33m    ratings = Soup.find_all('div', class_ = 'star-rating','title')\u001b[0m\n\u001b[1;37m                                                                 ^\u001b[0m\n\u001b[1;31mSyntaxError\u001b[0m\u001b[1;31m:\u001b[0m positional argument follows keyword argument\n"
     ]
    }
   ],
   "source": [
    "ratings = Soup.find_all('div', class_ = 'star-rating','title')"
   ]
  },
  {
   "cell_type": "code",
   "execution_count": null,
   "id": "5816ea0b-dba6-4491-bad0-f711688166c1",
   "metadata": {
    "scrolled": true
   },
   "outputs": [],
   "source": [
    "for i in ratings:\n",
    "    print(i.text)"
   ]
  },
  {
   "cell_type": "code",
   "execution_count": null,
   "id": "62c4f865-6475-4561-af5d-cd5e51fbbe14",
   "metadata": {},
   "outputs": [],
   "source": [
    "#print('ratings')"
   ]
  },
  {
   "cell_type": "code",
   "execution_count": null,
   "id": "73fc828e-8ee7-4480-84ff-ced7d1226e4d",
   "metadata": {},
   "outputs": [],
   "source": []
  },
  {
   "cell_type": "code",
   "execution_count": null,
   "id": "97bcc708-690c-46f2-9879-0870a9595167",
   "metadata": {},
   "outputs": [],
   "source": [
    "import requests\n",
    "\n",
    "cookies = {\n",
    "    'BUI': '32eaeb66-981e-4507-b8f1-ee1bab2886a7',\n",
    "    'bltgSessionId': '5b6c2c1a-826e-458b-9fa5-0c1310d5ed11',\n",
    "    'XSRF-TOKEN': '20bf5a74-c605-4f5f-b76e-7e79b16a8ce7',\n",
    "    'locale': 'NL',\n",
    "    'language': 'nl-NL',\n",
    "    'XSC': 'wgVgZY3as96RsJiVXU3dTuU9JAfRosGt',\n",
    "    'cachedAssets': '3d45',\n",
    "    's_fid': '07C0C3123A2E87B4-0E5805565BEF2416',\n",
    "    'px_page': 'no%20cms%20page',\n",
    "    'px_prop36': 'xlarge',\n",
    "    's_cc': 'true',\n",
    "    's_vi': '[CS]v1|32AF8E028CBB64D5-40000D88A26CB0FD[CE]',\n",
    "    '_gid': 'GA1.2.943745927.1700731913',\n",
    "    '_gcl_au': '1.1.1962461387.1700731913',\n",
    "    'kppid': '32eaeb66-981e-4507-b8f1-ee1bab2886a7',\n",
    "    'fdbk': '2',\n",
    "    'shopping_session_id': '21f21b0ebd7c5ba4ab74740fe40a85bb9b998cd796094595cfadbbcf6ed6bcfb',\n",
    "    'px_visit': '1',\n",
    "    'bolConsentChoices': 'source#OFC|version#6|int-tran#true|ext-tran#true|int-beh#true|ext-beh#true',\n",
    "    '_gat_gtag_UA_89331604_12': '1',\n",
    "    'px_nr': '1700823859952-Repeat',\n",
    "    'px_prop13': 'mobile',\n",
    "    'px_eVar14': 'Search%20history',\n",
    "    'px_prop34': 'search',\n",
    "    'px_pp': 'main%3AquickSearch',\n",
    "    'px_eVar80': '%7B%22journey%22%3A2%2C%22page%22%3A1%7D',\n",
    "    '_ga': 'GA1.1.460071224.1700731913',\n",
    "    '_ga_MY1G523SMZ': 'GS1.1.1700823330.3.1.1700823860.32.0.0',\n",
    "    'P': '.wspc-canary-deployment-5c597bcd6-hr9wx',\n",
    "}\n",
    "\n",
    "headers = {\n",
    "    'authority': 'www.bol.com',\n",
    "    'accept': 'text/html,application/xhtml+xml,application/xml;q=0.9,image/avif,image/webp,image/apng,*/*;q=0.8,application/signed-exchange;v=b3;q=0.7',\n",
    "    'accept-language': 'en-US,en;q=0.9',\n",
    "    # 'cookie': 'BUI=32eaeb66-981e-4507-b8f1-ee1bab2886a7; bltgSessionId=5b6c2c1a-826e-458b-9fa5-0c1310d5ed11; XSRF-TOKEN=20bf5a74-c605-4f5f-b76e-7e79b16a8ce7; locale=NL; language=nl-NL; XSC=wgVgZY3as96RsJiVXU3dTuU9JAfRosGt; cachedAssets=3d45; s_fid=07C0C3123A2E87B4-0E5805565BEF2416; px_page=no%20cms%20page; px_prop36=xlarge; s_cc=true; s_vi=[CS]v1|32AF8E028CBB64D5-40000D88A26CB0FD[CE]; _gid=GA1.2.943745927.1700731913; _gcl_au=1.1.1962461387.1700731913; kppid=32eaeb66-981e-4507-b8f1-ee1bab2886a7; fdbk=2; shopping_session_id=21f21b0ebd7c5ba4ab74740fe40a85bb9b998cd796094595cfadbbcf6ed6bcfb; px_visit=1; bolConsentChoices=source#OFC|version#6|int-tran#true|ext-tran#true|int-beh#true|ext-beh#true; _gat_gtag_UA_89331604_12=1; px_nr=1700823859952-Repeat; px_prop13=mobile; px_eVar14=Search%20history; px_prop34=search; px_pp=main%3AquickSearch; px_eVar80=%7B%22journey%22%3A2%2C%22page%22%3A1%7D; _ga=GA1.1.460071224.1700731913; _ga_MY1G523SMZ=GS1.1.1700823330.3.1.1700823860.32.0.0; P=.wspc-canary-deployment-5c597bcd6-hr9wx',\n",
    "    'referer': 'https://www.bol.com/nl/nl/s/?searchtext=mobile&suggestionType=search_history',\n",
    "    'sec-ch-ua': '\"Google Chrome\";v=\"119\", \"Chromium\";v=\"119\", \"Not?A_Brand\";v=\"24\"',\n",
    "    'sec-ch-ua-mobile': '?0',\n",
    "    'sec-ch-ua-platform': '\"Windows\"',\n",
    "    'sec-fetch-dest': 'document',\n",
    "    'sec-fetch-mode': 'navigate',\n",
    "    'sec-fetch-site': 'same-origin',\n",
    "    'sec-fetch-user': '?1',\n",
    "    'upgrade-insecure-requests': '1',\n",
    "    'user-agent': 'Mozilla/5.0 (Windows NT 10.0; Win64; x64) AppleWebKit/537.36 (KHTML, like Gecko) Chrome/119.0.0.0 Safari/537.36',\n",
    "}\n",
    "\n",
    "params = {\n",
    "    'searchtext': 'charger',\n",
    "}\n",
    "\n",
    "response = requests.get('https://www.bol.com/nl/nl/s/', params=params, cookies=cookies, headers=headers)"
   ]
  }
 ],
 "metadata": {
  "kernelspec": {
   "display_name": "Python 3 (ipykernel)",
   "language": "python",
   "name": "python3"
  },
  "language_info": {
   "codemirror_mode": {
    "name": "ipython",
    "version": 3
   },
   "file_extension": ".py",
   "mimetype": "text/x-python",
   "name": "python",
   "nbconvert_exporter": "python",
   "pygments_lexer": "ipython3",
   "version": "3.11.2"
  }
 },
 "nbformat": 4,
 "nbformat_minor": 5
}
